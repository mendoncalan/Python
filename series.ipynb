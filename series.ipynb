{
  "nbformat": 4,
  "nbformat_minor": 0,
  "metadata": {
    "colab": {
      "provenance": [],
      "authorship_tag": "ABX9TyMzFooPc66uGOZcYzHZXAd2",
      "include_colab_link": true
    },
    "kernelspec": {
      "name": "python3",
      "display_name": "Python 3"
    },
    "language_info": {
      "name": "python"
    }
  },
  "cells": [
    {
      "cell_type": "markdown",
      "metadata": {
        "id": "view-in-github",
        "colab_type": "text"
      },
      "source": [
        "<a href=\"https://colab.research.google.com/github/mendoncalan/Python/blob/main/series.ipynb\" target=\"_parent\"><img src=\"https://colab.research.google.com/assets/colab-badge.svg\" alt=\"Open In Colab\"/></a>"
      ]
    },
    {
      "cell_type": "code",
      "execution_count": null,
      "metadata": {
        "id": "yKJ_c0K-WgNv"
      },
      "outputs": [],
      "source": [
        "# Series\n",
        "# Creating a Series Object from A Python List\n",
        "# it is 1D Array\n"
      ]
    },
    {
      "cell_type": "code",
      "source": [
        "import pandas as pd"
      ],
      "metadata": {
        "id": "vL2vPRYhboN1"
      },
      "execution_count": 2,
      "outputs": []
    },
    {
      "cell_type": "code",
      "source": [
        "from pandas.core.indexers.utils import Index\n",
        "ice_cream  = [\"Chocolate\",\"Vanilla\",\"Strawberry\",\"Rum Raisin\"]\n",
        "pd.Series(ice_cream)\n",
        "# In python we can change the index\n",
        "#Index  Data\n",
        "0     Chocolate\n",
        "1       Vanilla\n",
        "2    Strawberry\n",
        "3    Rum Raisin\n",
        "dtype: object"
      ],
      "metadata": {
        "id": "b8hZrbehW6MT",
        "colab": {
          "base_uri": "https://localhost:8080/"
        },
        "outputId": "9c443f79-ec07-4f6e-f37a-c0350b43a11e"
      },
      "execution_count": null,
      "outputs": [
        {
          "output_type": "execute_result",
          "data": {
            "text/plain": [
              "0     Chocolate\n",
              "1       Vanilla\n",
              "2    Strawberry\n",
              "3    Rum Raisin\n",
              "dtype: object"
            ]
          },
          "metadata": {},
          "execution_count": 3
        }
      ]
    },
    {
      "cell_type": "code",
      "source": [
        "lotterty =[4,8,15,16,23,42]\n",
        "pd.Series(lotterty)"
      ],
      "metadata": {
        "id": "r9sNNdZMckGx",
        "outputId": "879f0811-301f-4039-e5dc-fbbf4eb318e6",
        "colab": {
          "base_uri": "https://localhost:8080/"
        }
      },
      "execution_count": null,
      "outputs": [
        {
          "output_type": "execute_result",
          "data": {
            "text/plain": [
              "0     4\n",
              "1     8\n",
              "2    15\n",
              "3    16\n",
              "4    23\n",
              "5    42\n",
              "dtype: int64"
            ]
          },
          "metadata": {},
          "execution_count": 4
        }
      ]
    },
    {
      "cell_type": "code",
      "source": [
        "registrations =[True, False , True, True ]\n",
        "pd.Series(registrations)"
      ],
      "metadata": {
        "id": "EknZ-pVOc7nL",
        "outputId": "390ed0d2-9cbf-445e-c34a-6aa9469b9a2b",
        "colab": {
          "base_uri": "https://localhost:8080/"
        }
      },
      "execution_count": null,
      "outputs": [
        {
          "output_type": "execute_result",
          "data": {
            "text/plain": [
              "0     True\n",
              "1    False\n",
              "2     True\n",
              "3     True\n",
              "dtype: bool"
            ]
          },
          "metadata": {},
          "execution_count": 5
        }
      ]
    },
    {
      "cell_type": "code",
      "source": [
        "# CReating a Series Object from A Dictionary\n",
        "sushi  ={\n",
        "    \"Salmon\" : \"Orange\",\n",
        "    \"Tuna\" : \"Red\",\n",
        "    \"Ele\": \"Brown\"\n",
        "}\n",
        "pd.Series(sushi)\n",
        "# it will have numberic index as well as Key pair as it maintains both index"
      ],
      "metadata": {
        "id": "h1u991NJdQv-",
        "outputId": "d59e83bc-3046-4193-ad89-409b97fef537",
        "colab": {
          "base_uri": "https://localhost:8080/"
        }
      },
      "execution_count": null,
      "outputs": [
        {
          "output_type": "execute_result",
          "data": {
            "text/plain": [
              "Salmon    Orange\n",
              "Tuna         Red\n",
              "Ele        Brown\n",
              "dtype: object"
            ]
          },
          "metadata": {},
          "execution_count": 6
        }
      ]
    },
    {
      "cell_type": "code",
      "source": [
        "# Import the pandas library and assign it its \"pd\" alias\n",
        "import pandas as pd\n",
        "# Create a list with 4 countries - United States, France, Germany, Italy\n",
        "# Create a new Series by passing in the list of countries\n",
        "# Assign the Series to a \"countries\" variable\n",
        "countries =[ 'United States', 'France', 'Germany', 'Italy']\n",
        "\n",
        "countries =pd.Series(countries)\n",
        "\n",
        "# Create a list with 3 colors - red, green, blue\n",
        "# Create a new Series by passing in the list of colors\n",
        "# Assign the Series to a \"colors\" variable\n",
        "\n",
        "colors=['red', 'green', 'blue']\n",
        "colors=pd.Series(colors)\n",
        "\n",
        "# Given the \"recipe\" dictionary below,\n",
        "# create a new Series by passing in the dictionary as the data source\n",
        "# Assign the resulting Series to a \"series_dict\" variable\n",
        "recipe = {\n",
        "  \"Flour\": True,\n",
        "  \"Sugar\": True,\n",
        "  \"Salt\": False\n",
        "}\n",
        "series_dict=pd.Series(recipe)"
      ],
      "metadata": {
        "id": "tGgRZ5OTeOaS"
      },
      "execution_count": null,
      "outputs": []
    },
    {
      "cell_type": "markdown",
      "source": [
        "Into to Attributes\n",
        "Attributes is the charateristic of the Item\n",
        "Examples for Laptop colour, keyboard layout etc are the attributes"
      ],
      "metadata": {
        "id": "ThSIP-5YASS4"
      }
    },
    {
      "cell_type": "markdown",
      "source": [
        "Difference between Attribute and Methoud.\n",
        "\n",
        "Method is function that we want to perform on the Item. where as the attribute is the describ the item.\n"
      ],
      "metadata": {
        "id": "--J7MlAMAn9C"
      }
    },
    {
      "cell_type": "code",
      "source": [
        "adjectives = pd.Series([\"Smart\",\"Handsome\",\"Charming\",\"Brilliant\",\"Humble\"])\n",
        "adjectives"
      ],
      "metadata": {
        "colab": {
          "base_uri": "https://localhost:8080/"
        },
        "id": "1IpnS88-ABrg",
        "outputId": "f56a5ddf-e4c2-4e04-b626-c8fc4bf8b2e8"
      },
      "execution_count": 4,
      "outputs": [
        {
          "output_type": "execute_result",
          "data": {
            "text/plain": [
              "0        Smart\n",
              "1     Handsome\n",
              "2     Charming\n",
              "3    Brilliant\n",
              "4       Humble\n",
              "dtype: object"
            ]
          },
          "metadata": {},
          "execution_count": 4
        }
      ]
    },
    {
      "cell_type": "code",
      "source": [
        "adjectives.size"
      ],
      "metadata": {
        "id": "mKgujMGpBvuG",
        "outputId": "79da6794-0d24-412a-e62c-0f278f751b74",
        "colab": {
          "base_uri": "https://localhost:8080/"
        }
      },
      "execution_count": 5,
      "outputs": [
        {
          "output_type": "execute_result",
          "data": {
            "text/plain": [
              "5"
            ]
          },
          "metadata": {},
          "execution_count": 5
        }
      ]
    },
    {
      "cell_type": "code",
      "source": [
        "adjectives.is_unique"
      ],
      "metadata": {
        "id": "aBfi3e9SBzXB",
        "outputId": "8b850bdd-e2d8-4958-9af8-9e97f3e16b8c",
        "colab": {
          "base_uri": "https://localhost:8080/"
        }
      },
      "execution_count": 6,
      "outputs": [
        {
          "output_type": "execute_result",
          "data": {
            "text/plain": [
              "True"
            ]
          },
          "metadata": {},
          "execution_count": 6
        }
      ]
    },
    {
      "cell_type": "code",
      "source": [
        "adjectives.values"
      ],
      "metadata": {
        "id": "EYX6puLWB9OW",
        "outputId": "487525cb-6cd4-4ce1-d7a8-13bc68c9a10c",
        "colab": {
          "base_uri": "https://localhost:8080/"
        }
      },
      "execution_count": 7,
      "outputs": [
        {
          "output_type": "execute_result",
          "data": {
            "text/plain": [
              "array(['Smart', 'Handsome', 'Charming', 'Brilliant', 'Humble'],\n",
              "      dtype=object)"
            ]
          },
          "metadata": {},
          "execution_count": 7
        }
      ]
    },
    {
      "cell_type": "code",
      "source": [
        "#Output\n",
        "#array(['Smart', 'Handsome', 'Charming', 'Brilliant', 'Humble'],\n",
        " #     dtype=object)\n",
        " #Series is stored in the form of NDArry that is a part of Numpy library\n"
      ],
      "metadata": {
        "id": "43GzHgOSCOj2"
      },
      "execution_count": null,
      "outputs": []
    },
    {
      "cell_type": "code",
      "source": [
        "type(adjectives.values)"
      ],
      "metadata": {
        "id": "pgEY66_vCvi7",
        "outputId": "d20dae57-9345-4d7b-b691-5d35633ab8a6",
        "colab": {
          "base_uri": "https://localhost:8080/"
        }
      },
      "execution_count": 9,
      "outputs": [
        {
          "output_type": "execute_result",
          "data": {
            "text/plain": [
              "numpy.ndarray"
            ]
          },
          "metadata": {},
          "execution_count": 9
        }
      ]
    },
    {
      "cell_type": "code",
      "source": [
        "adjectives.index"
      ],
      "metadata": {
        "id": "lPUGDJlVC7Ny",
        "outputId": "ffca571a-a8fd-4aa5-dd37-1d7245893d9a",
        "colab": {
          "base_uri": "https://localhost:8080/"
        }
      },
      "execution_count": 10,
      "outputs": [
        {
          "output_type": "execute_result",
          "data": {
            "text/plain": [
              "RangeIndex(start=0, stop=5, step=1)"
            ]
          },
          "metadata": {},
          "execution_count": 10
        }
      ]
    },
    {
      "cell_type": "code",
      "source": [
        "type(adjectives.index)"
      ],
      "metadata": {
        "id": "j7gDnIfXDBmt",
        "outputId": "36b4934b-2ca2-4104-f1b9-83cad16a241c",
        "colab": {
          "base_uri": "https://localhost:8080/"
        }
      },
      "execution_count": 11,
      "outputs": [
        {
          "output_type": "execute_result",
          "data": {
            "text/plain": [
              "pandas.core.indexes.range.RangeIndex"
            ]
          },
          "metadata": {},
          "execution_count": 11
        }
      ]
    },
    {
      "cell_type": "code",
      "source": [
        "adjectives.dtype"
      ],
      "metadata": {
        "id": "aDNfk9UODGzr",
        "outputId": "fa65ed1a-a35a-450b-9585-897ddbd7004e",
        "colab": {
          "base_uri": "https://localhost:8080/"
        }
      },
      "execution_count": 12,
      "outputs": [
        {
          "output_type": "execute_result",
          "data": {
            "text/plain": [
              "dtype('O')"
            ]
          },
          "metadata": {},
          "execution_count": 12
        }
      ]
    }
  ]
}